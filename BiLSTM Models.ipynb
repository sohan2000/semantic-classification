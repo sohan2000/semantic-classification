{
  "nbformat": 4,
  "nbformat_minor": 0,
  "metadata": {
    "colab": {
      "provenance": []
    },
    "kernelspec": {
      "name": "python3",
      "display_name": "Python 3"
    },
    "language_info": {
      "name": "python"
    }
  },
  "cells": [
    {
      "cell_type": "code",
      "source": [
        "#IMPORT BASIC LIBRARIES\n",
        "import numpy as np\n",
        "import pandas as pd\n",
        "import statistics\n",
        "import tensorflow as tf\n",
        "\n",
        "# Importing Tensorflow Libraries\n",
        "from tensorflow.keras.models import Sequential\n",
        "from tensorflow.keras.layers import Embedding, Bidirectional, LSTM, Dropout, Dense, TimeDistributed\n",
        "from tensorflow.keras.preprocessing.text import Tokenizer\n",
        "from tensorflow.keras.preprocessing.sequence import pad_sequences\n",
        "from sklearn.model_selection import train_test_split\n",
        "from sklearn.feature_extraction.text import TfidfVectorizer\n",
        "from tensorflow.keras.optimizers import Adam\n",
        "from keras.initializers import Constant\n",
        "\n",
        "#IMPORT NLP LIBRARY\n",
        "import nltk\n",
        "import string\n",
        "import spacy\n",
        "import pickle\n",
        "\n",
        "from nltk.corpus import stopwords\n",
        "nltk.download('stopwords')\n",
        "nltk.download('punkt')"
      ],
      "metadata": {
        "colab": {
          "base_uri": "https://localhost:8080/"
        },
        "id": "2CN4XkgMpWzo",
        "outputId": "f9cafaea-e044-46b2-fdff-cbe0e1592e22"
      },
      "execution_count": 1,
      "outputs": [
        {
          "output_type": "stream",
          "name": "stderr",
          "text": [
            "[nltk_data] Downloading package stopwords to /root/nltk_data...\n",
            "[nltk_data]   Package stopwords is already up-to-date!\n",
            "[nltk_data] Downloading package punkt to /root/nltk_data...\n",
            "[nltk_data]   Package punkt is already up-to-date!\n"
          ]
        },
        {
          "output_type": "execute_result",
          "data": {
            "text/plain": [
              "True"
            ]
          },
          "metadata": {},
          "execution_count": 1
        }
      ]
    },
    {
      "cell_type": "code",
      "execution_count": 2,
      "metadata": {
        "id": "AmK8TomuoMhl",
        "colab": {
          "base_uri": "https://localhost:8080/",
          "height": 206
        },
        "outputId": "65b6a2c0-fad6-4963-b12d-865a06ec38eb"
      },
      "outputs": [
        {
          "output_type": "execute_result",
          "data": {
            "text/plain": [
              "                                              Review  positive=1/negative=0\n",
              "0  Great food and great atmosphere! The chicken t...                      1\n",
              "1  I had heard good things about Tikka Shak so I ...                      0\n",
              "2  I was driving by tikka shack one day and decid...                      0\n",
              "3  Tikka Shack had the most modern and up-to-date...                      1\n",
              "4  Today is the third time I've come to India Pal...                      1"
            ],
            "text/html": [
              "\n",
              "  <div id=\"df-18a6321d-cd5a-4586-aa56-5fb1a65c81fe\" class=\"colab-df-container\">\n",
              "    <div>\n",
              "<style scoped>\n",
              "    .dataframe tbody tr th:only-of-type {\n",
              "        vertical-align: middle;\n",
              "    }\n",
              "\n",
              "    .dataframe tbody tr th {\n",
              "        vertical-align: top;\n",
              "    }\n",
              "\n",
              "    .dataframe thead th {\n",
              "        text-align: right;\n",
              "    }\n",
              "</style>\n",
              "<table border=\"1\" class=\"dataframe\">\n",
              "  <thead>\n",
              "    <tr style=\"text-align: right;\">\n",
              "      <th></th>\n",
              "      <th>Review</th>\n",
              "      <th>positive=1/negative=0</th>\n",
              "    </tr>\n",
              "  </thead>\n",
              "  <tbody>\n",
              "    <tr>\n",
              "      <th>0</th>\n",
              "      <td>Great food and great atmosphere! The chicken t...</td>\n",
              "      <td>1</td>\n",
              "    </tr>\n",
              "    <tr>\n",
              "      <th>1</th>\n",
              "      <td>I had heard good things about Tikka Shak so I ...</td>\n",
              "      <td>0</td>\n",
              "    </tr>\n",
              "    <tr>\n",
              "      <th>2</th>\n",
              "      <td>I was driving by tikka shack one day and decid...</td>\n",
              "      <td>0</td>\n",
              "    </tr>\n",
              "    <tr>\n",
              "      <th>3</th>\n",
              "      <td>Tikka Shack had the most modern and up-to-date...</td>\n",
              "      <td>1</td>\n",
              "    </tr>\n",
              "    <tr>\n",
              "      <th>4</th>\n",
              "      <td>Today is the third time I've come to India Pal...</td>\n",
              "      <td>1</td>\n",
              "    </tr>\n",
              "  </tbody>\n",
              "</table>\n",
              "</div>\n",
              "    <div class=\"colab-df-buttons\">\n",
              "\n",
              "  <div class=\"colab-df-container\">\n",
              "    <button class=\"colab-df-convert\" onclick=\"convertToInteractive('df-18a6321d-cd5a-4586-aa56-5fb1a65c81fe')\"\n",
              "            title=\"Convert this dataframe to an interactive table.\"\n",
              "            style=\"display:none;\">\n",
              "\n",
              "  <svg xmlns=\"http://www.w3.org/2000/svg\" height=\"24px\" viewBox=\"0 -960 960 960\">\n",
              "    <path d=\"M120-120v-720h720v720H120Zm60-500h600v-160H180v160Zm220 220h160v-160H400v160Zm0 220h160v-160H400v160ZM180-400h160v-160H180v160Zm440 0h160v-160H620v160ZM180-180h160v-160H180v160Zm440 0h160v-160H620v160Z\"/>\n",
              "  </svg>\n",
              "    </button>\n",
              "\n",
              "  <style>\n",
              "    .colab-df-container {\n",
              "      display:flex;\n",
              "      gap: 12px;\n",
              "    }\n",
              "\n",
              "    .colab-df-convert {\n",
              "      background-color: #E8F0FE;\n",
              "      border: none;\n",
              "      border-radius: 50%;\n",
              "      cursor: pointer;\n",
              "      display: none;\n",
              "      fill: #1967D2;\n",
              "      height: 32px;\n",
              "      padding: 0 0 0 0;\n",
              "      width: 32px;\n",
              "    }\n",
              "\n",
              "    .colab-df-convert:hover {\n",
              "      background-color: #E2EBFA;\n",
              "      box-shadow: 0px 1px 2px rgba(60, 64, 67, 0.3), 0px 1px 3px 1px rgba(60, 64, 67, 0.15);\n",
              "      fill: #174EA6;\n",
              "    }\n",
              "\n",
              "    .colab-df-buttons div {\n",
              "      margin-bottom: 4px;\n",
              "    }\n",
              "\n",
              "    [theme=dark] .colab-df-convert {\n",
              "      background-color: #3B4455;\n",
              "      fill: #D2E3FC;\n",
              "    }\n",
              "\n",
              "    [theme=dark] .colab-df-convert:hover {\n",
              "      background-color: #434B5C;\n",
              "      box-shadow: 0px 1px 3px 1px rgba(0, 0, 0, 0.15);\n",
              "      filter: drop-shadow(0px 1px 2px rgba(0, 0, 0, 0.3));\n",
              "      fill: #FFFFFF;\n",
              "    }\n",
              "  </style>\n",
              "\n",
              "    <script>\n",
              "      const buttonEl =\n",
              "        document.querySelector('#df-18a6321d-cd5a-4586-aa56-5fb1a65c81fe button.colab-df-convert');\n",
              "      buttonEl.style.display =\n",
              "        google.colab.kernel.accessAllowed ? 'block' : 'none';\n",
              "\n",
              "      async function convertToInteractive(key) {\n",
              "        const element = document.querySelector('#df-18a6321d-cd5a-4586-aa56-5fb1a65c81fe');\n",
              "        const dataTable =\n",
              "          await google.colab.kernel.invokeFunction('convertToInteractive',\n",
              "                                                    [key], {});\n",
              "        if (!dataTable) return;\n",
              "\n",
              "        const docLinkHtml = 'Like what you see? Visit the ' +\n",
              "          '<a target=\"_blank\" href=https://colab.research.google.com/notebooks/data_table.ipynb>data table notebook</a>'\n",
              "          + ' to learn more about interactive tables.';\n",
              "        element.innerHTML = '';\n",
              "        dataTable['output_type'] = 'display_data';\n",
              "        await google.colab.output.renderOutput(dataTable, element);\n",
              "        const docLink = document.createElement('div');\n",
              "        docLink.innerHTML = docLinkHtml;\n",
              "        element.appendChild(docLink);\n",
              "      }\n",
              "    </script>\n",
              "  </div>\n",
              "\n",
              "\n",
              "<div id=\"df-183bfc11-0638-4317-b154-ff295e704072\">\n",
              "  <button class=\"colab-df-quickchart\" onclick=\"quickchart('df-183bfc11-0638-4317-b154-ff295e704072')\"\n",
              "            title=\"Suggest charts\"\n",
              "            style=\"display:none;\">\n",
              "\n",
              "<svg xmlns=\"http://www.w3.org/2000/svg\" height=\"24px\"viewBox=\"0 0 24 24\"\n",
              "     width=\"24px\">\n",
              "    <g>\n",
              "        <path d=\"M19 3H5c-1.1 0-2 .9-2 2v14c0 1.1.9 2 2 2h14c1.1 0 2-.9 2-2V5c0-1.1-.9-2-2-2zM9 17H7v-7h2v7zm4 0h-2V7h2v10zm4 0h-2v-4h2v4z\"/>\n",
              "    </g>\n",
              "</svg>\n",
              "  </button>\n",
              "\n",
              "<style>\n",
              "  .colab-df-quickchart {\n",
              "      --bg-color: #E8F0FE;\n",
              "      --fill-color: #1967D2;\n",
              "      --hover-bg-color: #E2EBFA;\n",
              "      --hover-fill-color: #174EA6;\n",
              "      --disabled-fill-color: #AAA;\n",
              "      --disabled-bg-color: #DDD;\n",
              "  }\n",
              "\n",
              "  [theme=dark] .colab-df-quickchart {\n",
              "      --bg-color: #3B4455;\n",
              "      --fill-color: #D2E3FC;\n",
              "      --hover-bg-color: #434B5C;\n",
              "      --hover-fill-color: #FFFFFF;\n",
              "      --disabled-bg-color: #3B4455;\n",
              "      --disabled-fill-color: #666;\n",
              "  }\n",
              "\n",
              "  .colab-df-quickchart {\n",
              "    background-color: var(--bg-color);\n",
              "    border: none;\n",
              "    border-radius: 50%;\n",
              "    cursor: pointer;\n",
              "    display: none;\n",
              "    fill: var(--fill-color);\n",
              "    height: 32px;\n",
              "    padding: 0;\n",
              "    width: 32px;\n",
              "  }\n",
              "\n",
              "  .colab-df-quickchart:hover {\n",
              "    background-color: var(--hover-bg-color);\n",
              "    box-shadow: 0 1px 2px rgba(60, 64, 67, 0.3), 0 1px 3px 1px rgba(60, 64, 67, 0.15);\n",
              "    fill: var(--button-hover-fill-color);\n",
              "  }\n",
              "\n",
              "  .colab-df-quickchart-complete:disabled,\n",
              "  .colab-df-quickchart-complete:disabled:hover {\n",
              "    background-color: var(--disabled-bg-color);\n",
              "    fill: var(--disabled-fill-color);\n",
              "    box-shadow: none;\n",
              "  }\n",
              "\n",
              "  .colab-df-spinner {\n",
              "    border: 2px solid var(--fill-color);\n",
              "    border-color: transparent;\n",
              "    border-bottom-color: var(--fill-color);\n",
              "    animation:\n",
              "      spin 1s steps(1) infinite;\n",
              "  }\n",
              "\n",
              "  @keyframes spin {\n",
              "    0% {\n",
              "      border-color: transparent;\n",
              "      border-bottom-color: var(--fill-color);\n",
              "      border-left-color: var(--fill-color);\n",
              "    }\n",
              "    20% {\n",
              "      border-color: transparent;\n",
              "      border-left-color: var(--fill-color);\n",
              "      border-top-color: var(--fill-color);\n",
              "    }\n",
              "    30% {\n",
              "      border-color: transparent;\n",
              "      border-left-color: var(--fill-color);\n",
              "      border-top-color: var(--fill-color);\n",
              "      border-right-color: var(--fill-color);\n",
              "    }\n",
              "    40% {\n",
              "      border-color: transparent;\n",
              "      border-right-color: var(--fill-color);\n",
              "      border-top-color: var(--fill-color);\n",
              "    }\n",
              "    60% {\n",
              "      border-color: transparent;\n",
              "      border-right-color: var(--fill-color);\n",
              "    }\n",
              "    80% {\n",
              "      border-color: transparent;\n",
              "      border-right-color: var(--fill-color);\n",
              "      border-bottom-color: var(--fill-color);\n",
              "    }\n",
              "    90% {\n",
              "      border-color: transparent;\n",
              "      border-bottom-color: var(--fill-color);\n",
              "    }\n",
              "  }\n",
              "</style>\n",
              "\n",
              "  <script>\n",
              "    async function quickchart(key) {\n",
              "      const quickchartButtonEl =\n",
              "        document.querySelector('#' + key + ' button');\n",
              "      quickchartButtonEl.disabled = true;  // To prevent multiple clicks.\n",
              "      quickchartButtonEl.classList.add('colab-df-spinner');\n",
              "      try {\n",
              "        const charts = await google.colab.kernel.invokeFunction(\n",
              "            'suggestCharts', [key], {});\n",
              "      } catch (error) {\n",
              "        console.error('Error during call to suggestCharts:', error);\n",
              "      }\n",
              "      quickchartButtonEl.classList.remove('colab-df-spinner');\n",
              "      quickchartButtonEl.classList.add('colab-df-quickchart-complete');\n",
              "    }\n",
              "    (() => {\n",
              "      let quickchartButtonEl =\n",
              "        document.querySelector('#df-183bfc11-0638-4317-b154-ff295e704072 button');\n",
              "      quickchartButtonEl.style.display =\n",
              "        google.colab.kernel.accessAllowed ? 'block' : 'none';\n",
              "    })();\n",
              "  </script>\n",
              "</div>\n",
              "    </div>\n",
              "  </div>\n"
            ]
          },
          "metadata": {},
          "execution_count": 2
        }
      ],
      "source": [
        "# Load your DataFrame\n",
        "df = pd.read_excel('/content/restaurant_reviews-v2-1.xlsx')\n",
        "\n",
        "# KEEP ONLY NECESSARY COLUMNS\n",
        "df = df[['Review', 'positive=1/negative=0']]\n",
        "df.head()"
      ]
    },
    {
      "cell_type": "code",
      "source": [
        "# PREPROCESSING: remove stopwords and punctuation\n",
        "df = df.reset_index(drop=True)\n",
        "df['reduced'] = \"\"\n",
        "stopWords = set(stopwords.words('english'))\n",
        "for index, row in df.iterrows():\n",
        "    temp = row['Review']\n",
        "    tokens_without_punct = nltk.word_tokenize(''.join(filter(lambda x: x not in string.punctuation, temp))) # removed punctuation\n",
        "    removal = [word for word in tokens_without_punct if word.lower() not in stopWords] # removed stopwords\n",
        "    result = ' '.join(removal)\n",
        "    df.at[index,'reduced'] = result\n",
        "\n",
        "# PREPROCESSING: perform lemmatization\n",
        "nlp = spacy.load('en_core_web_sm')\n",
        "df = df.reset_index(drop=True)\n",
        "df['lemmatized'] = \"\"\n",
        "for index, row in df.iterrows():\n",
        "    temp = row['reduced']\n",
        "    doc = nlp(temp)\n",
        "    tokens = []\n",
        "    for token in doc:\n",
        "      tokens.append(token)\n",
        "    lemma = \" \".join([token.lemma_ for token in doc])\n",
        "    df.at[index,'lemmatized'] = lemma"
      ],
      "metadata": {
        "id": "8uzpyy4yyxUY"
      },
      "execution_count": 3,
      "outputs": []
    },
    {
      "cell_type": "code",
      "source": [
        "# Labeling using the RAW INPUT DATA\n",
        "texts_raw = df[\"Review\"] # Raw Input Data\n",
        "labels = df['positive=1/negative=0'] # Output labels (binary)\n",
        "# Tokenize the RAW text\n",
        "tokenizer_raw = Tokenizer(num_words=10000, oov_token=\"<OOV>\")\n",
        "tokenizer_raw.fit_on_texts(texts_raw)\n",
        "sequences_raw = tokenizer_raw.texts_to_sequences(texts_raw)\n",
        "# Pad the RAW sequences\n",
        "padded_sequences_raw = pad_sequences(sequences_raw, maxlen=120, padding='post', truncating='post')\n",
        "\n",
        "\n",
        "# Labeling the Preprocssed INPUT DATA\n",
        "texts_prep = df[\"lemmatized\"] # Preprocessed Input data\n",
        "# labels = df['positive=1/negative=0']\n",
        "# Tokenize the Preprocssed text\n",
        "tokenizer_prep = Tokenizer(num_words=10000, oov_token=\"<OOV>\")\n",
        "tokenizer_prep.fit_on_texts(texts_prep)\n",
        "sequences_prep = tokenizer_prep.texts_to_sequences(texts_prep)\n",
        "# Pad the Preprocssed sequences\n",
        "padded_sequences_prep = pad_sequences(sequences_prep, maxlen=120, padding='post', truncating='post')"
      ],
      "metadata": {
        "id": "evGDjDTdzkrg"
      },
      "execution_count": 4,
      "outputs": []
    },
    {
      "cell_type": "code",
      "source": [
        "# TF-IDF Implementation for RAW INPUT DATA\n",
        "# Convert texts to TF-IDF features\n",
        "tfidf_vectorizer_raw = TfidfVectorizer(max_features=10000)  # We can adjust the number of features\n",
        "# Save tfidf_vectorizer as a pickle file for RAW DATA\n",
        "X_tfidf_raw = tfidf_vectorizer_raw.fit_transform(df['Review'])\n",
        "pickle.dump(tfidf_vectorizer_raw, open('tf_uni_raw.pkl', 'wb'))\n",
        "X_tfidf_raw = X_tfidf_raw.toarray()\n",
        "# Split the data: TF-IDF\n",
        "X_train_tfidf_raw, X_test_tfidf_raw, y_train_tfidf_raw, y_test_tfidf_raw = train_test_split(X_tfidf_raw, labels, test_size=0.2, random_state=42, stratify=labels)\n",
        "\n",
        "\n",
        "# TF-IDF Implementation for Preprocessed DATA\n",
        "# Convert texts to TF-IDF features\n",
        "tfidf_vectorizer_prep = TfidfVectorizer(max_features=10000)  # We can adjust the number of features\n",
        "# Save tfidf_vectorizer as a pickle file\n",
        "X_tfidf_prep = tfidf_vectorizer_prep.fit_transform(df['lemmatized'])\n",
        "pickle.dump(tfidf_vectorizer_prep, open('tf_uni_prep.pkl', 'wb'))\n",
        "X_tfidf_prep = X_tfidf_prep.toarray()\n",
        "# Split the data: TF-IDF\n",
        "X_train_tfidf_prep, X_test_tfidf_prep, y_train_tfidf_prep, y_test_tfidf_prep = train_test_split(X_tfidf_prep, labels, test_size=0.2, random_state=42, stratify=labels)"
      ],
      "metadata": {
        "id": "7IJR1yGYoWfx"
      },
      "execution_count": 5,
      "outputs": []
    },
    {
      "cell_type": "code",
      "source": [
        "# GloVe Implementation\n",
        "# Load GloVe embeddings\n",
        "glove_embeddings = {}\n",
        "with open('/content/glove.twitter.27B.100d.txt', 'r', encoding='utf8') as f:  # change the files for different glove dimensions\n",
        "    for line in f:\n",
        "        values = line.split()\n",
        "        word = values[0]\n",
        "        vector = np.asarray(values[1:], dtype='float32')\n",
        "        glove_embeddings[word] = vector\n",
        "\n",
        "\n",
        "# Creating an embedding matrix with RAW DATA\n",
        "embedding_dim = 100  # This should match the GloVe embeddings dimension\n",
        "vocab_size_raw = len(tokenizer_raw.word_index) + 1  # Adding 1 because of reserved 0 index\n",
        "embedding_matrix_raw = np.zeros((vocab_size_raw, embedding_dim))\n",
        "for word, i in tokenizer_raw.word_index.items():\n",
        "    embedding_vector_raw = glove_embeddings.get(word)\n",
        "    if embedding_vector_raw is not None:\n",
        "        embedding_matrix_raw[i] = embedding_vector_raw\n",
        "# Split the RAW data: GloVe\n",
        "X_train_glove_raw, X_test_glove_raw, y_train_glove_raw, y_test_glove_raw = train_test_split(padded_sequences_raw, labels, test_size=0.2, random_state=42, stratify=labels)\n",
        "\n",
        "\n",
        "# Creating an embedding matrix with Preprocssed Data\n",
        "embedding_dim = 100  # This should match the GloVe embeddings dimension\n",
        "vocab_size_prep = len(tokenizer_prep.word_index) + 1  # Adding 1 because of reserved 0 index\n",
        "embedding_matrix_prep = np.zeros((vocab_size_prep, embedding_dim))\n",
        "for word, i in tokenizer_prep.word_index.items():\n",
        "    embedding_vector = glove_embeddings.get(word)\n",
        "    if embedding_vector is not None:\n",
        "        embedding_matrix_prep[i] = embedding_vector\n",
        "# Split the Preprocssed data: GloVe\n",
        "X_train_glove_prep, X_test_glove_prep, y_train_glove_prep, y_test_glove_prep = train_test_split(padded_sequences_prep, labels, test_size=0.2, random_state=42, stratify=labels)"
      ],
      "metadata": {
        "id": "uUQKPX1Gy7mM"
      },
      "execution_count": 6,
      "outputs": []
    },
    {
      "cell_type": "code",
      "source": [
        "# Model for TF-IDF - RAW - NO DROPOUT\n",
        "birnn_tfidf_raw = tf.keras.Sequential([\n",
        "    # Since TF-IDF vectors are not sequential data like word embeddings, we use a Dense network instead of RNN layers.\n",
        "    tf.keras.layers.Dense(embedding_dim, input_shape=(X_train_tfidf_raw.shape[1],), activation='relu'),\n",
        "    tf.keras.layers.Reshape((10, 10), input_shape=(X_train_tfidf_raw.shape[1],)),\n",
        "    tf.keras.layers.Bidirectional(tf.keras.layers.LSTM(embedding_dim, return_sequences=True)),\n",
        "    tf.keras.layers.Bidirectional(tf.keras.layers.LSTM(embedding_dim)),\n",
        "    tf.keras.layers.Dense(1, activation='sigmoid')\n",
        "])\n",
        "birnn_tfidf_raw.compile(loss='binary_crossentropy', optimizer=Adam(learning_rate=3e-4), metrics=['accuracy'])\n",
        "birnn_tfidf_raw.fit(X_train_tfidf_raw, y_train_tfidf_raw, epochs=20, validation_data=(X_test_tfidf_raw, y_test_tfidf_raw))"
      ],
      "metadata": {
        "colab": {
          "base_uri": "https://localhost:8080/"
        },
        "id": "wT4KRUTY8SO5",
        "outputId": "539bd81c-2446-41c3-d127-edd4a68f2789"
      },
      "execution_count": 7,
      "outputs": [
        {
          "output_type": "stream",
          "name": "stdout",
          "text": [
            "Epoch 1/20\n",
            "7/7 [==============================] - 13s 533ms/step - loss: 0.6933 - accuracy: 0.5192 - val_loss: 0.6925 - val_accuracy: 0.5192\n",
            "Epoch 2/20\n",
            "7/7 [==============================] - 0s 62ms/step - loss: 0.6919 - accuracy: 0.5192 - val_loss: 0.6921 - val_accuracy: 0.5192\n",
            "Epoch 3/20\n",
            "7/7 [==============================] - 0s 61ms/step - loss: 0.6901 - accuracy: 0.5192 - val_loss: 0.6910 - val_accuracy: 0.5192\n",
            "Epoch 4/20\n",
            "7/7 [==============================] - 0s 63ms/step - loss: 0.6851 - accuracy: 0.5192 - val_loss: 0.6881 - val_accuracy: 0.5192\n",
            "Epoch 5/20\n",
            "7/7 [==============================] - 0s 55ms/step - loss: 0.6722 - accuracy: 0.6394 - val_loss: 0.6799 - val_accuracy: 0.5577\n",
            "Epoch 6/20\n",
            "7/7 [==============================] - 0s 61ms/step - loss: 0.6366 - accuracy: 0.8077 - val_loss: 0.6572 - val_accuracy: 0.5577\n",
            "Epoch 7/20\n",
            "7/7 [==============================] - 0s 55ms/step - loss: 0.5388 - accuracy: 0.9231 - val_loss: 0.5867 - val_accuracy: 0.6731\n",
            "Epoch 8/20\n",
            "7/7 [==============================] - 0s 60ms/step - loss: 0.3168 - accuracy: 0.9856 - val_loss: 0.4061 - val_accuracy: 0.8462\n",
            "Epoch 9/20\n",
            "7/7 [==============================] - 0s 58ms/step - loss: 0.0823 - accuracy: 0.9952 - val_loss: 0.2446 - val_accuracy: 0.9038\n",
            "Epoch 10/20\n",
            "7/7 [==============================] - 0s 58ms/step - loss: 0.0123 - accuracy: 0.9952 - val_loss: 0.2951 - val_accuracy: 0.8846\n",
            "Epoch 11/20\n",
            "7/7 [==============================] - 0s 61ms/step - loss: 0.0016 - accuracy: 1.0000 - val_loss: 0.3210 - val_accuracy: 0.9038\n",
            "Epoch 12/20\n",
            "7/7 [==============================] - 0s 61ms/step - loss: 5.8606e-04 - accuracy: 1.0000 - val_loss: 0.3528 - val_accuracy: 0.9038\n",
            "Epoch 13/20\n",
            "7/7 [==============================] - 0s 60ms/step - loss: 3.3178e-04 - accuracy: 1.0000 - val_loss: 0.3737 - val_accuracy: 0.9038\n",
            "Epoch 14/20\n",
            "7/7 [==============================] - 0s 64ms/step - loss: 2.3285e-04 - accuracy: 1.0000 - val_loss: 0.3885 - val_accuracy: 0.9038\n",
            "Epoch 15/20\n",
            "7/7 [==============================] - 0s 57ms/step - loss: 1.8431e-04 - accuracy: 1.0000 - val_loss: 0.3991 - val_accuracy: 0.9038\n",
            "Epoch 16/20\n",
            "7/7 [==============================] - 0s 63ms/step - loss: 1.6059e-04 - accuracy: 1.0000 - val_loss: 0.4078 - val_accuracy: 0.9038\n",
            "Epoch 17/20\n",
            "7/7 [==============================] - 0s 57ms/step - loss: 1.4249e-04 - accuracy: 1.0000 - val_loss: 0.4142 - val_accuracy: 0.9038\n",
            "Epoch 18/20\n",
            "7/7 [==============================] - 0s 56ms/step - loss: 1.3231e-04 - accuracy: 1.0000 - val_loss: 0.4198 - val_accuracy: 0.9038\n",
            "Epoch 19/20\n",
            "7/7 [==============================] - 0s 63ms/step - loss: 1.2402e-04 - accuracy: 1.0000 - val_loss: 0.4245 - val_accuracy: 0.9038\n",
            "Epoch 20/20\n",
            "7/7 [==============================] - 0s 58ms/step - loss: 1.1803e-04 - accuracy: 1.0000 - val_loss: 0.4290 - val_accuracy: 0.9038\n"
          ]
        },
        {
          "output_type": "execute_result",
          "data": {
            "text/plain": [
              "<keras.src.callbacks.History at 0x7e14b9aaf850>"
            ]
          },
          "metadata": {},
          "execution_count": 7
        }
      ]
    },
    {
      "cell_type": "code",
      "source": [
        "# Model for TF-IDF - RAW - WITH DROPOUT\n",
        "birnn_tfidf_raw_drop = tf.keras.Sequential([\n",
        "    tf.keras.layers.Dense(embedding_dim, input_shape=(X_train_tfidf_raw.shape[1],), activation='relu'),\n",
        "    tf.keras.layers.Reshape((10, 10), input_shape=(X_train_tfidf_raw.shape[1],)),\n",
        "    tf.keras.layers.Bidirectional(tf.keras.layers.LSTM(embedding_dim, return_sequences=True)),\n",
        "    tf.keras.layers.Dropout(0.1),\n",
        "    tf.keras.layers.Bidirectional(tf.keras.layers.LSTM(embedding_dim)),\n",
        "    tf.keras.layers.Dense(1, activation='sigmoid')\n",
        "])\n",
        "birnn_tfidf_raw_drop.compile(loss='binary_crossentropy', optimizer=Adam(learning_rate=3e-4), metrics=['accuracy'])\n",
        "birnn_tfidf_raw_drop.fit(X_train_tfidf_raw, y_train_tfidf_raw, epochs=20, validation_data=(X_test_tfidf_raw, y_test_tfidf_raw))"
      ],
      "metadata": {
        "colab": {
          "base_uri": "https://localhost:8080/"
        },
        "id": "DJrdHCPE7pU9",
        "outputId": "5ab9d4f8-2d76-4707-bc89-ef8843ed6bee"
      },
      "execution_count": 8,
      "outputs": [
        {
          "output_type": "stream",
          "name": "stdout",
          "text": [
            "Epoch 1/20\n",
            "7/7 [==============================] - 12s 371ms/step - loss: 0.6932 - accuracy: 0.5337 - val_loss: 0.6924 - val_accuracy: 0.5192\n",
            "Epoch 2/20\n",
            "7/7 [==============================] - 0s 64ms/step - loss: 0.6918 - accuracy: 0.5192 - val_loss: 0.6917 - val_accuracy: 0.5192\n",
            "Epoch 3/20\n",
            "7/7 [==============================] - 0s 68ms/step - loss: 0.6895 - accuracy: 0.5192 - val_loss: 0.6899 - val_accuracy: 0.5192\n",
            "Epoch 4/20\n",
            "7/7 [==============================] - 0s 59ms/step - loss: 0.6840 - accuracy: 0.5192 - val_loss: 0.6857 - val_accuracy: 0.5192\n",
            "Epoch 5/20\n",
            "7/7 [==============================] - 0s 60ms/step - loss: 0.6692 - accuracy: 0.5913 - val_loss: 0.6754 - val_accuracy: 0.5385\n",
            "Epoch 6/20\n",
            "7/7 [==============================] - 0s 61ms/step - loss: 0.6313 - accuracy: 0.7356 - val_loss: 0.6464 - val_accuracy: 0.5962\n",
            "Epoch 7/20\n",
            "7/7 [==============================] - 0s 65ms/step - loss: 0.5275 - accuracy: 0.9231 - val_loss: 0.5629 - val_accuracy: 0.7308\n",
            "Epoch 8/20\n",
            "7/7 [==============================] - 0s 71ms/step - loss: 0.2998 - accuracy: 0.9808 - val_loss: 0.3764 - val_accuracy: 0.9038\n",
            "Epoch 9/20\n",
            "7/7 [==============================] - 1s 102ms/step - loss: 0.0806 - accuracy: 0.9952 - val_loss: 0.2460 - val_accuracy: 0.8846\n",
            "Epoch 10/20\n",
            "7/7 [==============================] - 1s 110ms/step - loss: 0.0222 - accuracy: 0.9952 - val_loss: 0.3276 - val_accuracy: 0.8846\n",
            "Epoch 11/20\n",
            "7/7 [==============================] - 1s 111ms/step - loss: 0.0078 - accuracy: 0.9952 - val_loss: 0.3104 - val_accuracy: 0.8654\n",
            "Epoch 12/20\n",
            "7/7 [==============================] - 1s 107ms/step - loss: 0.0024 - accuracy: 1.0000 - val_loss: 0.4438 - val_accuracy: 0.8846\n",
            "Epoch 13/20\n",
            "7/7 [==============================] - 1s 105ms/step - loss: 0.0015 - accuracy: 1.0000 - val_loss: 0.5139 - val_accuracy: 0.8462\n",
            "Epoch 14/20\n",
            "7/7 [==============================] - 1s 103ms/step - loss: 0.0010 - accuracy: 1.0000 - val_loss: 0.5124 - val_accuracy: 0.8462\n",
            "Epoch 15/20\n",
            "7/7 [==============================] - 1s 86ms/step - loss: 6.9450e-04 - accuracy: 1.0000 - val_loss: 0.4937 - val_accuracy: 0.8654\n",
            "Epoch 16/20\n",
            "7/7 [==============================] - 0s 62ms/step - loss: 5.4143e-04 - accuracy: 1.0000 - val_loss: 0.4735 - val_accuracy: 0.8846\n",
            "Epoch 17/20\n",
            "7/7 [==============================] - 0s 63ms/step - loss: 4.6395e-04 - accuracy: 1.0000 - val_loss: 0.4568 - val_accuracy: 0.8846\n",
            "Epoch 18/20\n",
            "7/7 [==============================] - 0s 63ms/step - loss: 4.0737e-04 - accuracy: 1.0000 - val_loss: 0.4464 - val_accuracy: 0.8846\n",
            "Epoch 19/20\n",
            "7/7 [==============================] - 0s 63ms/step - loss: 3.7428e-04 - accuracy: 1.0000 - val_loss: 0.4393 - val_accuracy: 0.8846\n",
            "Epoch 20/20\n",
            "7/7 [==============================] - 0s 63ms/step - loss: 3.5418e-04 - accuracy: 1.0000 - val_loss: 0.4341 - val_accuracy: 0.8846\n"
          ]
        },
        {
          "output_type": "execute_result",
          "data": {
            "text/plain": [
              "<keras.src.callbacks.History at 0x7e14ba417790>"
            ]
          },
          "metadata": {},
          "execution_count": 8
        }
      ]
    },
    {
      "cell_type": "code",
      "source": [
        "# Model for TF-IDF - PREPROCESSED - NO DROPOUT\n",
        "birnn_tfidf_prep = tf.keras.Sequential([\n",
        "    tf.keras.layers.Dense(embedding_dim, input_shape=(X_train_tfidf_prep.shape[1],), activation='relu'),\n",
        "    tf.keras.layers.Reshape((10, 10), input_shape=(X_train_tfidf_prep.shape[1],)),\n",
        "    tf.keras.layers.Bidirectional(tf.keras.layers.LSTM(embedding_dim, return_sequences=True)),\n",
        "    tf.keras.layers.Bidirectional(tf.keras.layers.LSTM(embedding_dim)),\n",
        "    tf.keras.layers.Dense(1, activation='sigmoid')\n",
        "])\n",
        "birnn_tfidf_prep.compile(loss='binary_crossentropy', optimizer=Adam(learning_rate=3e-4), metrics=['accuracy'])\n",
        "birnn_tfidf_prep.fit(X_train_tfidf_prep, y_train_tfidf_prep, epochs=20, validation_data=(X_test_tfidf_prep, y_test_tfidf_prep))"
      ],
      "metadata": {
        "id": "NbIE0evKorsx",
        "colab": {
          "base_uri": "https://localhost:8080/"
        },
        "outputId": "cf52a61c-12b3-4fb7-f2b0-4ad18818d511"
      },
      "execution_count": 9,
      "outputs": [
        {
          "output_type": "stream",
          "name": "stdout",
          "text": [
            "Epoch 1/20\n",
            "7/7 [==============================] - 13s 381ms/step - loss: 0.6931 - accuracy: 0.4856 - val_loss: 0.6928 - val_accuracy: 0.5192\n",
            "Epoch 2/20\n",
            "7/7 [==============================] - 1s 109ms/step - loss: 0.6926 - accuracy: 0.5192 - val_loss: 0.6917 - val_accuracy: 0.5192\n",
            "Epoch 3/20\n",
            "7/7 [==============================] - 1s 102ms/step - loss: 0.6897 - accuracy: 0.5192 - val_loss: 0.6904 - val_accuracy: 0.5192\n",
            "Epoch 4/20\n",
            "7/7 [==============================] - 1s 104ms/step - loss: 0.6854 - accuracy: 0.5192 - val_loss: 0.6872 - val_accuracy: 0.5192\n",
            "Epoch 5/20\n",
            "7/7 [==============================] - 1s 107ms/step - loss: 0.6742 - accuracy: 0.5192 - val_loss: 0.6796 - val_accuracy: 0.5192\n",
            "Epoch 6/20\n",
            "7/7 [==============================] - 1s 101ms/step - loss: 0.6441 - accuracy: 0.5529 - val_loss: 0.6590 - val_accuracy: 0.5192\n",
            "Epoch 7/20\n",
            "7/7 [==============================] - 1s 104ms/step - loss: 0.5628 - accuracy: 0.8173 - val_loss: 0.5985 - val_accuracy: 0.7500\n",
            "Epoch 8/20\n",
            "7/7 [==============================] - 1s 75ms/step - loss: 0.3713 - accuracy: 0.9904 - val_loss: 0.4519 - val_accuracy: 0.8077\n",
            "Epoch 9/20\n",
            "7/7 [==============================] - 0s 62ms/step - loss: 0.1181 - accuracy: 1.0000 - val_loss: 0.3142 - val_accuracy: 0.8269\n",
            "Epoch 10/20\n",
            "7/7 [==============================] - 0s 65ms/step - loss: 0.0233 - accuracy: 0.9952 - val_loss: 0.3358 - val_accuracy: 0.8654\n",
            "Epoch 11/20\n",
            "7/7 [==============================] - 0s 64ms/step - loss: 0.0043 - accuracy: 1.0000 - val_loss: 0.4390 - val_accuracy: 0.8462\n",
            "Epoch 12/20\n",
            "7/7 [==============================] - 0s 63ms/step - loss: 0.0013 - accuracy: 1.0000 - val_loss: 0.5000 - val_accuracy: 0.8654\n",
            "Epoch 13/20\n",
            "7/7 [==============================] - 0s 63ms/step - loss: 6.4314e-04 - accuracy: 1.0000 - val_loss: 0.5166 - val_accuracy: 0.8654\n",
            "Epoch 14/20\n",
            "7/7 [==============================] - 0s 53ms/step - loss: 3.8362e-04 - accuracy: 1.0000 - val_loss: 0.5188 - val_accuracy: 0.8654\n",
            "Epoch 15/20\n",
            "7/7 [==============================] - 0s 62ms/step - loss: 2.7966e-04 - accuracy: 1.0000 - val_loss: 0.5176 - val_accuracy: 0.8654\n",
            "Epoch 16/20\n",
            "7/7 [==============================] - 0s 53ms/step - loss: 2.2916e-04 - accuracy: 1.0000 - val_loss: 0.5163 - val_accuracy: 0.8846\n",
            "Epoch 17/20\n",
            "7/7 [==============================] - 0s 62ms/step - loss: 2.0124e-04 - accuracy: 1.0000 - val_loss: 0.5161 - val_accuracy: 0.8846\n",
            "Epoch 18/20\n",
            "7/7 [==============================] - 0s 58ms/step - loss: 1.8267e-04 - accuracy: 1.0000 - val_loss: 0.5163 - val_accuracy: 0.8846\n",
            "Epoch 19/20\n",
            "7/7 [==============================] - 0s 53ms/step - loss: 1.6882e-04 - accuracy: 1.0000 - val_loss: 0.5169 - val_accuracy: 0.8846\n",
            "Epoch 20/20\n",
            "7/7 [==============================] - 0s 57ms/step - loss: 1.5858e-04 - accuracy: 1.0000 - val_loss: 0.5183 - val_accuracy: 0.8846\n"
          ]
        },
        {
          "output_type": "execute_result",
          "data": {
            "text/plain": [
              "<keras.src.callbacks.History at 0x7e14a85f8fa0>"
            ]
          },
          "metadata": {},
          "execution_count": 9
        }
      ]
    },
    {
      "cell_type": "code",
      "source": [
        "# Model for TF-IDF - PREPROCESSED - WITH DROPOUT\n",
        "birnn_tfidf_prep_drop = tf.keras.Sequential([\n",
        "    tf.keras.layers.Dense(embedding_dim, input_shape=(X_train_tfidf_prep.shape[1],), activation='relu'),\n",
        "    tf.keras.layers.Reshape((10, 10), input_shape=(X_train_tfidf_prep.shape[1],)),\n",
        "    tf.keras.layers.Bidirectional(tf.keras.layers.LSTM(embedding_dim, return_sequences=True)),\n",
        "    tf.keras.layers.Dropout(0.1),\n",
        "    tf.keras.layers.Bidirectional(tf.keras.layers.LSTM(embedding_dim)),\n",
        "    tf.keras.layers.Dense(1, activation='sigmoid')\n",
        "])\n",
        "birnn_tfidf_prep_drop.compile(loss='binary_crossentropy', optimizer=Adam(learning_rate=3e-4), metrics=['accuracy'])\n",
        "birnn_tfidf_prep_drop.fit(X_train_tfidf_prep, y_train_tfidf_prep, epochs=20, validation_data=(X_test_tfidf_prep, y_test_tfidf_prep))"
      ],
      "metadata": {
        "id": "eDSJoHbo2bbm",
        "colab": {
          "base_uri": "https://localhost:8080/"
        },
        "outputId": "d3c0120e-2197-4cc4-f97a-fb911cc68e81"
      },
      "execution_count": 10,
      "outputs": [
        {
          "output_type": "stream",
          "name": "stdout",
          "text": [
            "Epoch 1/20\n",
            "7/7 [==============================] - 12s 478ms/step - loss: 0.6937 - accuracy: 0.3942 - val_loss: 0.6926 - val_accuracy: 0.5192\n",
            "Epoch 2/20\n",
            "7/7 [==============================] - 0s 64ms/step - loss: 0.6922 - accuracy: 0.5192 - val_loss: 0.6922 - val_accuracy: 0.5192\n",
            "Epoch 3/20\n",
            "7/7 [==============================] - 0s 64ms/step - loss: 0.6905 - accuracy: 0.5192 - val_loss: 0.6909 - val_accuracy: 0.5192\n",
            "Epoch 4/20\n",
            "7/7 [==============================] - 0s 56ms/step - loss: 0.6862 - accuracy: 0.5288 - val_loss: 0.6877 - val_accuracy: 0.5192\n",
            "Epoch 5/20\n",
            "7/7 [==============================] - 0s 56ms/step - loss: 0.6753 - accuracy: 0.5240 - val_loss: 0.6801 - val_accuracy: 0.5192\n",
            "Epoch 6/20\n",
            "7/7 [==============================] - 0s 55ms/step - loss: 0.6465 - accuracy: 0.5721 - val_loss: 0.6608 - val_accuracy: 0.5192\n",
            "Epoch 7/20\n",
            "7/7 [==============================] - 0s 60ms/step - loss: 0.5720 - accuracy: 0.8077 - val_loss: 0.6064 - val_accuracy: 0.6923\n",
            "Epoch 8/20\n",
            "7/7 [==============================] - 0s 58ms/step - loss: 0.3784 - accuracy: 0.9663 - val_loss: 0.4586 - val_accuracy: 0.8654\n",
            "Epoch 9/20\n",
            "7/7 [==============================] - 0s 59ms/step - loss: 0.1259 - accuracy: 1.0000 - val_loss: 0.2999 - val_accuracy: 0.8846\n",
            "Epoch 10/20\n",
            "7/7 [==============================] - 0s 68ms/step - loss: 0.0224 - accuracy: 1.0000 - val_loss: 0.3738 - val_accuracy: 0.8846\n",
            "Epoch 11/20\n",
            "7/7 [==============================] - 0s 61ms/step - loss: 0.0049 - accuracy: 1.0000 - val_loss: 0.4168 - val_accuracy: 0.9038\n",
            "Epoch 12/20\n",
            "7/7 [==============================] - 0s 62ms/step - loss: 0.0013 - accuracy: 1.0000 - val_loss: 0.4304 - val_accuracy: 0.8846\n",
            "Epoch 13/20\n",
            "7/7 [==============================] - 0s 61ms/step - loss: 6.0397e-04 - accuracy: 1.0000 - val_loss: 0.4395 - val_accuracy: 0.8846\n",
            "Epoch 14/20\n",
            "7/7 [==============================] - 1s 104ms/step - loss: 3.9205e-04 - accuracy: 1.0000 - val_loss: 0.4471 - val_accuracy: 0.8846\n",
            "Epoch 15/20\n",
            "7/7 [==============================] - 1s 109ms/step - loss: 3.0682e-04 - accuracy: 1.0000 - val_loss: 0.4533 - val_accuracy: 0.8846\n",
            "Epoch 16/20\n",
            "7/7 [==============================] - 1s 104ms/step - loss: 2.6796e-04 - accuracy: 1.0000 - val_loss: 0.4586 - val_accuracy: 0.8846\n",
            "Epoch 17/20\n",
            "7/7 [==============================] - 1s 110ms/step - loss: 2.4831e-04 - accuracy: 1.0000 - val_loss: 0.4631 - val_accuracy: 0.8846\n",
            "Epoch 18/20\n",
            "7/7 [==============================] - 1s 106ms/step - loss: 2.3332e-04 - accuracy: 1.0000 - val_loss: 0.4667 - val_accuracy: 0.8846\n",
            "Epoch 19/20\n",
            "7/7 [==============================] - 1s 102ms/step - loss: 2.2440e-04 - accuracy: 1.0000 - val_loss: 0.4702 - val_accuracy: 0.8846\n",
            "Epoch 20/20\n",
            "7/7 [==============================] - 1s 103ms/step - loss: 2.1553e-04 - accuracy: 1.0000 - val_loss: 0.4738 - val_accuracy: 0.8846\n"
          ]
        },
        {
          "output_type": "execute_result",
          "data": {
            "text/plain": [
              "<keras.src.callbacks.History at 0x7e14ab6ae650>"
            ]
          },
          "metadata": {},
          "execution_count": 10
        }
      ]
    },
    {
      "cell_type": "code",
      "source": [
        "# BiRNN model using GloVe embeddings - RAW DATA - NO DROPOUT\n",
        "birnn_glove_raw = tf.keras.Sequential([\n",
        "    tf.keras.layers.Embedding(vocab_size_raw, embedding_dim, input_length=X_train_glove_raw.shape[1], weights=[embedding_matrix_raw], trainable=False),\n",
        "    # BiRNN model is similar to LSTM model but uses Bidirectional wrappers around the LSTM layers\n",
        "    tf.keras.layers.Bidirectional(tf.keras.layers.LSTM(embedding_dim, return_sequences=True)),\n",
        "    tf.keras.layers.Bidirectional(tf.keras.layers.LSTM(embedding_dim)),\n",
        "    tf.keras.layers.Dense(32, activation='relu'),\n",
        "    tf.keras.layers.Dense(1, activation='sigmoid')\n",
        "])\n",
        "birnn_glove_raw.compile(loss='binary_crossentropy', optimizer=Adam(learning_rate=3e-4), metrics=['accuracy'])\n",
        "birnn_glove_raw.fit(X_train_glove_raw, y_train_glove_raw, epochs=20, validation_data=(X_test_glove_raw, y_test_glove_raw))"
      ],
      "metadata": {
        "id": "AsqyL2SqoldM",
        "colab": {
          "base_uri": "https://localhost:8080/"
        },
        "outputId": "5134c7ed-fe41-4282-8f11-a54d1a0574bb"
      },
      "execution_count": 11,
      "outputs": [
        {
          "output_type": "stream",
          "name": "stdout",
          "text": [
            "Epoch 1/20\n",
            "7/7 [==============================] - 14s 739ms/step - loss: 0.7018 - accuracy: 0.4327 - val_loss: 0.6907 - val_accuracy: 0.5192\n",
            "Epoch 2/20\n",
            "7/7 [==============================] - 5s 720ms/step - loss: 0.6747 - accuracy: 0.6058 - val_loss: 0.6827 - val_accuracy: 0.5962\n",
            "Epoch 3/20\n",
            "7/7 [==============================] - 4s 549ms/step - loss: 0.6524 - accuracy: 0.6635 - val_loss: 0.6655 - val_accuracy: 0.6731\n",
            "Epoch 4/20\n",
            "7/7 [==============================] - 3s 478ms/step - loss: 0.6201 - accuracy: 0.6875 - val_loss: 0.6344 - val_accuracy: 0.6731\n",
            "Epoch 5/20\n",
            "7/7 [==============================] - 3s 475ms/step - loss: 0.5456 - accuracy: 0.8077 - val_loss: 0.5506 - val_accuracy: 0.7115\n",
            "Epoch 6/20\n",
            "7/7 [==============================] - 5s 771ms/step - loss: 0.4704 - accuracy: 0.8173 - val_loss: 0.5406 - val_accuracy: 0.7692\n",
            "Epoch 7/20\n",
            "7/7 [==============================] - 4s 485ms/step - loss: 0.4742 - accuracy: 0.8125 - val_loss: 0.6916 - val_accuracy: 0.6154\n",
            "Epoch 8/20\n",
            "7/7 [==============================] - 3s 460ms/step - loss: 0.5034 - accuracy: 0.7452 - val_loss: 0.4721 - val_accuracy: 0.7308\n",
            "Epoch 9/20\n",
            "7/7 [==============================] - 3s 458ms/step - loss: 0.3902 - accuracy: 0.8558 - val_loss: 0.4354 - val_accuracy: 0.8269\n",
            "Epoch 10/20\n",
            "7/7 [==============================] - 5s 736ms/step - loss: 0.3363 - accuracy: 0.8750 - val_loss: 0.4080 - val_accuracy: 0.8269\n",
            "Epoch 11/20\n",
            "7/7 [==============================] - 4s 509ms/step - loss: 0.2903 - accuracy: 0.9038 - val_loss: 0.3934 - val_accuracy: 0.8077\n",
            "Epoch 12/20\n",
            "7/7 [==============================] - 3s 474ms/step - loss: 0.2588 - accuracy: 0.9087 - val_loss: 0.3683 - val_accuracy: 0.8269\n",
            "Epoch 13/20\n",
            "7/7 [==============================] - 3s 461ms/step - loss: 0.2081 - accuracy: 0.9423 - val_loss: 0.3669 - val_accuracy: 0.8462\n",
            "Epoch 14/20\n",
            "7/7 [==============================] - 5s 775ms/step - loss: 0.1977 - accuracy: 0.9279 - val_loss: 0.3534 - val_accuracy: 0.8846\n",
            "Epoch 15/20\n",
            "7/7 [==============================] - 4s 505ms/step - loss: 0.2950 - accuracy: 0.8654 - val_loss: 0.8148 - val_accuracy: 0.6538\n",
            "Epoch 16/20\n",
            "7/7 [==============================] - 3s 476ms/step - loss: 0.3198 - accuracy: 0.8702 - val_loss: 0.6681 - val_accuracy: 0.7885\n",
            "Epoch 17/20\n",
            "7/7 [==============================] - 3s 476ms/step - loss: 0.3267 - accuracy: 0.8942 - val_loss: 0.4904 - val_accuracy: 0.7692\n",
            "Epoch 18/20\n",
            "7/7 [==============================] - 6s 856ms/step - loss: 0.2433 - accuracy: 0.9135 - val_loss: 0.3662 - val_accuracy: 0.8269\n",
            "Epoch 19/20\n",
            "7/7 [==============================] - 3s 471ms/step - loss: 0.1970 - accuracy: 0.9423 - val_loss: 0.3721 - val_accuracy: 0.8654\n",
            "Epoch 20/20\n",
            "7/7 [==============================] - 3s 464ms/step - loss: 0.1969 - accuracy: 0.9327 - val_loss: 0.3818 - val_accuracy: 0.8654\n"
          ]
        },
        {
          "output_type": "execute_result",
          "data": {
            "text/plain": [
              "<keras.src.callbacks.History at 0x7e14abe4b310>"
            ]
          },
          "metadata": {},
          "execution_count": 11
        }
      ]
    },
    {
      "cell_type": "code",
      "source": [
        "# BiRNN model using GloVe embeddings - RAW DATA - WITH DROPOUT\n",
        "birnn_glove_raw_drop = tf.keras.Sequential([\n",
        "    tf.keras.layers.Embedding(vocab_size_raw, embedding_dim, input_length=X_train_glove_raw.shape[1], weights=[embedding_matrix_raw], trainable=False),\n",
        "    tf.keras.layers.Bidirectional(tf.keras.layers.LSTM(embedding_dim, return_sequences=True)),\n",
        "    tf.keras.layers.Dropout(0.1),\n",
        "    tf.keras.layers.Bidirectional(tf.keras.layers.LSTM(embedding_dim)),\n",
        "    tf.keras.layers.Dense(32, activation='relu'),\n",
        "    tf.keras.layers.Dense(1, activation='sigmoid')\n",
        "])\n",
        "birnn_glove_raw_drop.compile(loss='binary_crossentropy', optimizer=Adam(learning_rate=3e-4), metrics=['accuracy'])\n",
        "birnn_glove_raw_drop.fit(X_train_glove_raw, y_train_glove_raw, epochs=20, validation_data=(X_test_glove_raw, y_test_glove_raw))"
      ],
      "metadata": {
        "colab": {
          "base_uri": "https://localhost:8080/"
        },
        "id": "PXtFN2YT-_GW",
        "outputId": "c2b1a3cd-f611-4136-9684-e0a91a4a1b2f"
      },
      "execution_count": 12,
      "outputs": [
        {
          "output_type": "stream",
          "name": "stdout",
          "text": [
            "Epoch 1/20\n",
            "7/7 [==============================] - 18s 1s/step - loss: 0.6918 - accuracy: 0.4760 - val_loss: 0.6786 - val_accuracy: 0.5769\n",
            "Epoch 2/20\n",
            "7/7 [==============================] - 4s 502ms/step - loss: 0.6636 - accuracy: 0.6731 - val_loss: 0.6639 - val_accuracy: 0.6731\n",
            "Epoch 3/20\n",
            "7/7 [==============================] - 3s 467ms/step - loss: 0.6357 - accuracy: 0.6490 - val_loss: 0.6364 - val_accuracy: 0.7115\n",
            "Epoch 4/20\n",
            "7/7 [==============================] - 3s 482ms/step - loss: 0.5918 - accuracy: 0.7740 - val_loss: 0.6082 - val_accuracy: 0.6731\n",
            "Epoch 5/20\n",
            "7/7 [==============================] - 6s 846ms/step - loss: 0.5142 - accuracy: 0.8221 - val_loss: 0.5350 - val_accuracy: 0.7692\n",
            "Epoch 6/20\n",
            "7/7 [==============================] - 3s 476ms/step - loss: 0.4447 - accuracy: 0.8077 - val_loss: 0.6976 - val_accuracy: 0.6346\n",
            "Epoch 7/20\n",
            "7/7 [==============================] - 3s 478ms/step - loss: 0.4628 - accuracy: 0.7933 - val_loss: 0.4722 - val_accuracy: 0.7885\n",
            "Epoch 8/20\n",
            "7/7 [==============================] - 3s 479ms/step - loss: 0.3333 - accuracy: 0.8798 - val_loss: 0.4818 - val_accuracy: 0.7308\n",
            "Epoch 9/20\n",
            "7/7 [==============================] - 6s 849ms/step - loss: 0.2964 - accuracy: 0.9038 - val_loss: 0.4494 - val_accuracy: 0.7308\n",
            "Epoch 10/20\n",
            "7/7 [==============================] - 3s 478ms/step - loss: 0.2425 - accuracy: 0.9183 - val_loss: 0.4536 - val_accuracy: 0.7308\n",
            "Epoch 11/20\n",
            "7/7 [==============================] - 3s 482ms/step - loss: 0.2112 - accuracy: 0.9231 - val_loss: 0.4464 - val_accuracy: 0.8077\n",
            "Epoch 12/20\n",
            "7/7 [==============================] - 4s 546ms/step - loss: 0.1692 - accuracy: 0.9423 - val_loss: 0.4521 - val_accuracy: 0.8077\n",
            "Epoch 13/20\n",
            "7/7 [==============================] - 5s 733ms/step - loss: 0.1504 - accuracy: 0.9567 - val_loss: 0.4636 - val_accuracy: 0.8077\n",
            "Epoch 14/20\n",
            "7/7 [==============================] - 3s 467ms/step - loss: 0.1154 - accuracy: 0.9663 - val_loss: 0.4632 - val_accuracy: 0.8077\n",
            "Epoch 15/20\n",
            "7/7 [==============================] - 3s 464ms/step - loss: 0.1026 - accuracy: 0.9663 - val_loss: 0.5272 - val_accuracy: 0.8269\n",
            "Epoch 16/20\n",
            "7/7 [==============================] - 4s 589ms/step - loss: 0.1335 - accuracy: 0.9615 - val_loss: 0.5363 - val_accuracy: 0.7885\n",
            "Epoch 17/20\n",
            "7/7 [==============================] - 5s 671ms/step - loss: 0.1068 - accuracy: 0.9567 - val_loss: 0.5992 - val_accuracy: 0.7885\n",
            "Epoch 18/20\n",
            "7/7 [==============================] - 3s 482ms/step - loss: 0.0771 - accuracy: 0.9856 - val_loss: 0.5799 - val_accuracy: 0.8269\n",
            "Epoch 19/20\n",
            "7/7 [==============================] - 3s 468ms/step - loss: 0.1014 - accuracy: 0.9663 - val_loss: 0.5885 - val_accuracy: 0.8462\n",
            "Epoch 20/20\n",
            "7/7 [==============================] - 5s 683ms/step - loss: 0.0543 - accuracy: 0.9808 - val_loss: 0.8043 - val_accuracy: 0.7692\n"
          ]
        },
        {
          "output_type": "execute_result",
          "data": {
            "text/plain": [
              "<keras.src.callbacks.History at 0x7e14a93e7670>"
            ]
          },
          "metadata": {},
          "execution_count": 12
        }
      ]
    },
    {
      "cell_type": "code",
      "source": [
        "# BiRNN model using GloVe embeddings - PREPROCESSED DATA - NO DROPOUT\n",
        "birnn_glove_prep = tf.keras.Sequential([\n",
        "    tf.keras.layers.Embedding(vocab_size_prep, embedding_dim, input_length=X_train_glove_prep.shape[1], weights=[embedding_matrix_prep], trainable=False),\n",
        "    tf.keras.layers.Bidirectional(tf.keras.layers.LSTM(embedding_dim, return_sequences=True)),\n",
        "    tf.keras.layers.Bidirectional(tf.keras.layers.LSTM(embedding_dim)),\n",
        "    tf.keras.layers.Dense(32, activation='relu'),\n",
        "    tf.keras.layers.Dense(1, activation='sigmoid')\n",
        "])\n",
        "birnn_glove_prep.compile(loss='binary_crossentropy', optimizer=Adam(learning_rate=3e-4), metrics=['accuracy'])\n",
        "birnn_glove_prep.fit(X_train_glove_prep, y_train_glove_prep, epochs=20, validation_data=(X_test_glove_prep, y_test_glove_prep))"
      ],
      "metadata": {
        "colab": {
          "base_uri": "https://localhost:8080/"
        },
        "id": "AEGlpEXp--4S",
        "outputId": "8819b904-f5e4-4082-c067-f3cb60c3c371"
      },
      "execution_count": 13,
      "outputs": [
        {
          "output_type": "stream",
          "name": "stdout",
          "text": [
            "Epoch 1/20\n",
            "7/7 [==============================] - 16s 1s/step - loss: 0.6879 - accuracy: 0.5096 - val_loss: 0.6768 - val_accuracy: 0.6154\n",
            "Epoch 2/20\n",
            "7/7 [==============================] - 3s 467ms/step - loss: 0.6559 - accuracy: 0.6635 - val_loss: 0.6550 - val_accuracy: 0.6923\n",
            "Epoch 3/20\n",
            "7/7 [==============================] - 3s 472ms/step - loss: 0.6181 - accuracy: 0.7067 - val_loss: 0.6286 - val_accuracy: 0.6346\n",
            "Epoch 4/20\n",
            "7/7 [==============================] - 4s 633ms/step - loss: 0.5815 - accuracy: 0.7356 - val_loss: 0.5489 - val_accuracy: 0.8462\n",
            "Epoch 5/20\n",
            "7/7 [==============================] - 5s 639ms/step - loss: 0.4971 - accuracy: 0.7933 - val_loss: 0.4737 - val_accuracy: 0.7885\n",
            "Epoch 6/20\n",
            "7/7 [==============================] - 3s 458ms/step - loss: 0.3965 - accuracy: 0.8510 - val_loss: 0.3678 - val_accuracy: 0.8846\n",
            "Epoch 7/20\n",
            "7/7 [==============================] - 3s 468ms/step - loss: 0.3479 - accuracy: 0.8702 - val_loss: 0.3478 - val_accuracy: 0.8654\n",
            "Epoch 8/20\n",
            "7/7 [==============================] - 5s 696ms/step - loss: 0.3213 - accuracy: 0.8798 - val_loss: 0.4354 - val_accuracy: 0.8077\n",
            "Epoch 9/20\n",
            "7/7 [==============================] - 4s 552ms/step - loss: 0.3195 - accuracy: 0.8846 - val_loss: 0.3050 - val_accuracy: 0.8846\n",
            "Epoch 10/20\n",
            "7/7 [==============================] - 3s 464ms/step - loss: 0.2517 - accuracy: 0.9135 - val_loss: 0.3124 - val_accuracy: 0.8846\n",
            "Epoch 11/20\n",
            "7/7 [==============================] - 3s 463ms/step - loss: 0.2616 - accuracy: 0.8846 - val_loss: 0.3554 - val_accuracy: 0.8846\n",
            "Epoch 12/20\n",
            "7/7 [==============================] - 5s 745ms/step - loss: 0.2060 - accuracy: 0.9327 - val_loss: 0.2885 - val_accuracy: 0.8462\n",
            "Epoch 13/20\n",
            "7/7 [==============================] - 4s 525ms/step - loss: 0.1833 - accuracy: 0.9423 - val_loss: 0.2830 - val_accuracy: 0.9231\n",
            "Epoch 14/20\n",
            "7/7 [==============================] - 3s 467ms/step - loss: 0.2005 - accuracy: 0.9135 - val_loss: 0.4602 - val_accuracy: 0.8654\n",
            "Epoch 15/20\n",
            "7/7 [==============================] - 3s 464ms/step - loss: 0.2461 - accuracy: 0.8942 - val_loss: 0.3339 - val_accuracy: 0.8462\n",
            "Epoch 16/20\n",
            "7/7 [==============================] - 5s 819ms/step - loss: 0.1668 - accuracy: 0.9519 - val_loss: 0.3561 - val_accuracy: 0.8269\n",
            "Epoch 17/20\n",
            "7/7 [==============================] - 3s 460ms/step - loss: 0.1158 - accuracy: 0.9663 - val_loss: 0.3508 - val_accuracy: 0.8654\n",
            "Epoch 18/20\n",
            "7/7 [==============================] - 3s 472ms/step - loss: 0.0944 - accuracy: 0.9760 - val_loss: 0.3946 - val_accuracy: 0.8462\n",
            "Epoch 19/20\n",
            "7/7 [==============================] - 3s 474ms/step - loss: 0.0783 - accuracy: 0.9808 - val_loss: 0.4243 - val_accuracy: 0.8462\n",
            "Epoch 20/20\n",
            "7/7 [==============================] - 6s 889ms/step - loss: 0.0693 - accuracy: 0.9856 - val_loss: 0.4867 - val_accuracy: 0.8077\n"
          ]
        },
        {
          "output_type": "execute_result",
          "data": {
            "text/plain": [
              "<keras.src.callbacks.History at 0x7e14a733f670>"
            ]
          },
          "metadata": {},
          "execution_count": 13
        }
      ]
    },
    {
      "cell_type": "code",
      "source": [
        "# BiRNN model using GloVe embeddings - PREPROCESSED DATA - WITH DROPOUT\n",
        "birnn_glove_prep_drop = tf.keras.Sequential([\n",
        "    tf.keras.layers.Embedding(vocab_size_prep, embedding_dim, input_length=X_train_glove_prep.shape[1], weights=[embedding_matrix_prep], trainable=False),\n",
        "    tf.keras.layers.Bidirectional(tf.keras.layers.LSTM(embedding_dim, return_sequences=True)),\n",
        "    tf.keras.layers.Dropout(0.1),\n",
        "    tf.keras.layers.Bidirectional(tf.keras.layers.LSTM(embedding_dim)),\n",
        "    tf.keras.layers.Dense(32, activation='relu'),\n",
        "    tf.keras.layers.Dense(1, activation='sigmoid')\n",
        "])\n",
        "birnn_glove_prep_drop.compile(loss='binary_crossentropy', optimizer=Adam(learning_rate=3e-4), metrics=['accuracy'])\n",
        "birnn_glove_prep_drop.fit(X_train_glove_prep, y_train_glove_prep, epochs=20, validation_data=(X_test_glove_prep, y_test_glove_prep))"
      ],
      "metadata": {
        "colab": {
          "base_uri": "https://localhost:8080/"
        },
        "id": "NBBVKDxhAJbG",
        "outputId": "a982ebc7-99d0-4a1b-df04-6170c3e19a20"
      },
      "execution_count": 14,
      "outputs": [
        {
          "output_type": "stream",
          "name": "stdout",
          "text": [
            "Epoch 1/20\n",
            "7/7 [==============================] - 17s 1s/step - loss: 0.6957 - accuracy: 0.5240 - val_loss: 0.6859 - val_accuracy: 0.6538\n",
            "Epoch 2/20\n",
            "7/7 [==============================] - 3s 474ms/step - loss: 0.6792 - accuracy: 0.6490 - val_loss: 0.6749 - val_accuracy: 0.7115\n",
            "Epoch 3/20\n",
            "7/7 [==============================] - 3s 477ms/step - loss: 0.6667 - accuracy: 0.6731 - val_loss: 0.6597 - val_accuracy: 0.6923\n",
            "Epoch 4/20\n",
            "7/7 [==============================] - 6s 849ms/step - loss: 0.6380 - accuracy: 0.7163 - val_loss: 0.6338 - val_accuracy: 0.7308\n",
            "Epoch 5/20\n",
            "7/7 [==============================] - 4s 593ms/step - loss: 0.6055 - accuracy: 0.7644 - val_loss: 0.5934 - val_accuracy: 0.7692\n",
            "Epoch 6/20\n",
            "7/7 [==============================] - 3s 485ms/step - loss: 0.5428 - accuracy: 0.7885 - val_loss: 0.5164 - val_accuracy: 0.7885\n",
            "Epoch 7/20\n",
            "7/7 [==============================] - 4s 636ms/step - loss: 0.4816 - accuracy: 0.7981 - val_loss: 0.4924 - val_accuracy: 0.7885\n",
            "Epoch 8/20\n",
            "7/7 [==============================] - 5s 640ms/step - loss: 0.4543 - accuracy: 0.8077 - val_loss: 0.3590 - val_accuracy: 0.8269\n",
            "Epoch 9/20\n",
            "7/7 [==============================] - 6s 870ms/step - loss: 0.3917 - accuracy: 0.8510 - val_loss: 0.3043 - val_accuracy: 0.9038\n",
            "Epoch 10/20\n",
            "7/7 [==============================] - 4s 572ms/step - loss: 0.3168 - accuracy: 0.8558 - val_loss: 0.2790 - val_accuracy: 0.9038\n",
            "Epoch 11/20\n",
            "7/7 [==============================] - 5s 706ms/step - loss: 0.3013 - accuracy: 0.8846 - val_loss: 0.3242 - val_accuracy: 0.8654\n",
            "Epoch 12/20\n",
            "7/7 [==============================] - 3s 482ms/step - loss: 0.2607 - accuracy: 0.9135 - val_loss: 0.4134 - val_accuracy: 0.8462\n",
            "Epoch 13/20\n",
            "7/7 [==============================] - 3s 470ms/step - loss: 0.2673 - accuracy: 0.9038 - val_loss: 0.3475 - val_accuracy: 0.8654\n",
            "Epoch 14/20\n",
            "7/7 [==============================] - 4s 668ms/step - loss: 0.2362 - accuracy: 0.8990 - val_loss: 0.2584 - val_accuracy: 0.9038\n",
            "Epoch 15/20\n",
            "7/7 [==============================] - 4s 594ms/step - loss: 0.2024 - accuracy: 0.9375 - val_loss: 0.2921 - val_accuracy: 0.9038\n",
            "Epoch 16/20\n",
            "7/7 [==============================] - 3s 483ms/step - loss: 0.1668 - accuracy: 0.9375 - val_loss: 0.2796 - val_accuracy: 0.9038\n",
            "Epoch 17/20\n",
            "7/7 [==============================] - 3s 485ms/step - loss: 0.1321 - accuracy: 0.9663 - val_loss: 0.2739 - val_accuracy: 0.9038\n",
            "Epoch 18/20\n",
            "7/7 [==============================] - 5s 827ms/step - loss: 0.1074 - accuracy: 0.9760 - val_loss: 0.2414 - val_accuracy: 0.9231\n",
            "Epoch 19/20\n",
            "7/7 [==============================] - 4s 482ms/step - loss: 0.0896 - accuracy: 0.9760 - val_loss: 0.2526 - val_accuracy: 0.9038\n",
            "Epoch 20/20\n",
            "7/7 [==============================] - 3s 485ms/step - loss: 0.0773 - accuracy: 0.9808 - val_loss: 0.2473 - val_accuracy: 0.9231\n"
          ]
        },
        {
          "output_type": "execute_result",
          "data": {
            "text/plain": [
              "<keras.src.callbacks.History at 0x7e14a539bcd0>"
            ]
          },
          "metadata": {},
          "execution_count": 14
        }
      ]
    },
    {
      "cell_type": "code",
      "source": [
        "# Evaluate TF-IDF models\n",
        "tfidf_raw = birnn_tfidf_raw.evaluate(X_test_tfidf_raw, y_test_tfidf_raw)\n",
        "tfidf_raw_drop = birnn_tfidf_raw_drop.evaluate(X_test_tfidf_raw, y_test_tfidf_raw)\n",
        "tfidf_prep = birnn_tfidf_prep.evaluate(X_test_tfidf_prep, y_test_tfidf_prep)\n",
        "tfidf_prep_drop = birnn_tfidf_prep.evaluate(X_test_tfidf_prep, y_test_tfidf_prep)\n",
        "\n",
        "# Evaluate GloVe models\n",
        "glove_raw = birnn_glove_raw.evaluate(X_test_glove_raw, y_test_glove_raw)\n",
        "glove_raw_drop = birnn_glove_raw_drop.evaluate(X_test_glove_raw, y_test_glove_raw)\n",
        "glove_prep = birnn_glove_prep.evaluate(X_test_glove_prep, y_test_glove_prep)\n",
        "glove_prep_drop = birnn_glove_prep_drop.evaluate(X_test_glove_prep, y_test_glove_prep)"
      ],
      "metadata": {
        "colab": {
          "base_uri": "https://localhost:8080/"
        },
        "id": "pvDYME0m--mT",
        "outputId": "91a705b2-c124-4e9f-e0b8-e8b3c9c54c91"
      },
      "execution_count": 15,
      "outputs": [
        {
          "output_type": "stream",
          "name": "stdout",
          "text": [
            "2/2 [==============================] - 0s 18ms/step - loss: 0.4290 - accuracy: 0.9038\n",
            "2/2 [==============================] - 0s 19ms/step - loss: 0.4341 - accuracy: 0.8846\n",
            "2/2 [==============================] - 0s 17ms/step - loss: 0.5183 - accuracy: 0.8846\n",
            "2/2 [==============================] - 0s 24ms/step - loss: 0.5183 - accuracy: 0.8846\n",
            "2/2 [==============================] - 0s 112ms/step - loss: 0.3818 - accuracy: 0.8654\n",
            "2/2 [==============================] - 0s 124ms/step - loss: 0.8043 - accuracy: 0.7692\n",
            "2/2 [==============================] - 0s 117ms/step - loss: 0.4867 - accuracy: 0.8077\n",
            "2/2 [==============================] - 0s 100ms/step - loss: 0.2473 - accuracy: 0.9231\n"
          ]
        }
      ]
    },
    {
      "cell_type": "code",
      "source": [
        "# Print TF-IDF Model Accuracies\n",
        "print(\"TF-IDF Model Accuracies:\")\n",
        "print(\"tfidf_raw Accuracy: %.2f%%\" % (tfidf_raw[1]*100))\n",
        "print(\"tfidf_raw_drop Accuracy: %.2f%%\" % (tfidf_raw_drop[1]*100))\n",
        "print(\"tfidf_prep Accuracy: %.2f%%\" % (tfidf_prep[1]*100))\n",
        "print(\"tfidf_prep_drop Accuracy: %.2f%%\" % (tfidf_prep_drop[1]*100))\n",
        "\n",
        "# Print GloVe Model Accuracies\n",
        "print(\"\\nGloVe Model Accuracies:\")\n",
        "print(\"glove_raw Accuracy: %.2f%%\" % (glove_raw[1]*100))\n",
        "print(\"glove_raw_drop Accuracy: %.2f%%\" % (glove_raw_drop[1]*100))\n",
        "print(\"glove_prep Accuracy: %.2f%%\" % (glove_prep[1]*100))\n",
        "print(\"glove_prep_drop Accuracy: %.2f%%\" % (glove_prep_drop[1]*100))"
      ],
      "metadata": {
        "colab": {
          "base_uri": "https://localhost:8080/"
        },
        "id": "WYFYk1AtDQ1j",
        "outputId": "ef2df1f7-9704-4642-ed60-ffed25689a81"
      },
      "execution_count": 20,
      "outputs": [
        {
          "output_type": "stream",
          "name": "stdout",
          "text": [
            "TF-IDF Model Accuracies:\n",
            "tfidf_raw Accuracy: 90.38%\n",
            "tfidf_raw_drop Accuracy: 88.46%\n",
            "tfidf_prep Accuracy: 88.46%\n",
            "tfidf_prep_drop Accuracy: 88.46%\n",
            "\n",
            "GloVe Model Accuracies:\n",
            "glove_raw Accuracy: 86.54%\n",
            "glove_raw_drop Accuracy: 76.92%\n",
            "glove_prep Accuracy: 80.77%\n",
            "glove_prep_drop Accuracy: 92.31%\n"
          ]
        }
      ]
    },
    {
      "cell_type": "code",
      "source": [
        "# Saving TF-IDF Models as h5 files\n",
        "birnn_tfidf_raw.save('/content/models/birnn_tfidf_raw.h5')\n",
        "birnn_tfidf_raw_drop.save('/content/models/birnn_tfidf_raw_drop.h5')\n",
        "birnn_tfidf_prep.save('/content/models/birnn_tfidf_prep.h5')\n",
        "birnn_tfidf_prep_drop.save('/content/models/birnn_tfidf_prep_drop.h5')\n",
        "\n",
        "# Saving GloVe Models as h5 files\n",
        "birnn_glove_raw.save('/content/models/birnn_glove_raw.h5')\n",
        "birnn_glove_raw_drop.save('/content/models/birnn_glove_raw_drop.h5')\n",
        "birnn_glove_prep.save('/content/models/birnn_glove_prep.h5')\n",
        "birnn_glove_prep_drop.save('/content/models/birnn_glove_prep_drop.h5')"
      ],
      "metadata": {
        "colab": {
          "base_uri": "https://localhost:8080/"
        },
        "id": "PK7Rb4SgCwPR",
        "outputId": "48942fb3-fa61-4c88-f50c-f647125cd0a7"
      },
      "execution_count": 17,
      "outputs": [
        {
          "output_type": "stream",
          "name": "stderr",
          "text": [
            "/usr/local/lib/python3.10/dist-packages/keras/src/engine/training.py:3079: UserWarning: You are saving your model as an HDF5 file via `model.save()`. This file format is considered legacy. We recommend using instead the native Keras format, e.g. `model.save('my_model.keras')`.\n",
            "  saving_api.save_model(\n"
          ]
        }
      ]
    },
    {
      "cell_type": "code",
      "source": [
        "# Saving TF-IDF Models as Pickle files\n",
        "with open(\"/content/models/birnn_tfidf_raw.pkl\", 'wb') as file:\n",
        "    pickle.dump(birnn_tfidf_raw, file)\n",
        "with open(\"/content/models/birnn_tfidf_raw_drop.pkl\", 'wb') as file:\n",
        "    pickle.dump(birnn_tfidf_raw_drop, file)\n",
        "with open(\"/content/models/birnn_tfidf_prep.pkl\", 'wb') as file:\n",
        "    pickle.dump(birnn_tfidf_prep, file)\n",
        "with open(\"/content/models/birnn_tfidf_prep_drop.pkl\", 'wb') as file:\n",
        "    pickle.dump(birnn_tfidf_prep_drop, file)\n",
        "\n",
        "# Saving GloVe Models as Pickle files\n",
        "with open(\"/content/models/birnn_glove_raw.pkl\", 'wb') as file:\n",
        "    pickle.dump(birnn_glove_raw, file)\n",
        "with open(\"/content/models/birnn_glove_raw_drop.pkl\", 'wb') as file:\n",
        "    pickle.dump(birnn_glove_raw_drop, file)\n",
        "with open(\"/content/models/birnn_glove_prep.pkl\", 'wb') as file:\n",
        "    pickle.dump(birnn_glove_prep, file)\n",
        "with open(\"/content/models/birnn_glove_prep_drop.pkl\", 'wb') as file:\n",
        "    pickle.dump(birnn_glove_prep_drop, file)"
      ],
      "metadata": {
        "id": "2S7OLcf3E_Kc"
      },
      "execution_count": 18,
      "outputs": []
    },
    {
      "cell_type": "code",
      "source": [
        "!zip -r /content/models.zip /content/models"
      ],
      "metadata": {
        "colab": {
          "base_uri": "https://localhost:8080/"
        },
        "id": "9ppEzgrAYA_2",
        "outputId": "dbfbfbe4-7948-4490-890b-392a05fd3dba"
      },
      "execution_count": 19,
      "outputs": [
        {
          "output_type": "stream",
          "name": "stdout",
          "text": [
            "updating: content/models/ (stored 0%)\n",
            "updating: content/models/birnn_tfidf_prep_drop.h5 (deflated 15%)\n",
            "updating: content/models/birnn_glove_prep.pkl (deflated 9%)\n",
            "updating: content/models/birnn_tfidf_prep_drop.pkl (deflated 14%)\n",
            "updating: content/models/birnn_tfidf_prep.h5 (deflated 15%)\n",
            "updating: content/models/birnn_tfidf_raw_drop.pkl (deflated 15%)\n",
            "updating: content/models/birnn_glove_prep.h5 (deflated 9%)\n",
            "updating: content/models/birnn_glove_prep_drop.pkl (deflated 9%)\n",
            "updating: content/models/birnn_glove_raw.h5 (deflated 9%)\n",
            "updating: content/models/birnn_tfidf_prep.pkl (deflated 14%)\n",
            "updating: content/models/birnn_glove_raw_drop.h5 (deflated 9%)\n",
            "updating: content/models/birnn_glove_raw_drop.pkl (deflated 9%)\n",
            "updating: content/models/birnn_tfidf_raw_drop.h5 (deflated 15%)\n",
            "updating: content/models/birnn_glove_prep_drop.h5 (deflated 9%)\n",
            "updating: content/models/birnn_tfidf_raw.h5 (deflated 15%)\n",
            "updating: content/models/birnn_glove_raw.pkl (deflated 9%)\n",
            "updating: content/models/birnn_tfidf_raw.pkl (deflated 14%)\n"
          ]
        }
      ]
    }
  ]
}